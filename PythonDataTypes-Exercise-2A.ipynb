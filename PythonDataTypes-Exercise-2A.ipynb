{
 "cells": [
  {
   "cell_type": "markdown",
   "metadata": {
    "colab_type": "text",
    "id": "P9aRb0p9_0RP"
   },
   "source": [
    "# Python Data Types & Containers Exercise 2A (Compulsory)"
   ]
  },
  {
   "cell_type": "markdown",
   "metadata": {
    "colab_type": "text",
    "id": "dPhgZHjB_0RR"
   },
   "source": [
    "1. Is the following list assignment correct? If not, explain why it isn't. If it is, print out _this_list_.\n",
    "```\n",
    "one = 'one'\n",
    "two = 2\n",
    "three = 3\n",
    "four = 'four'\n",
    "list_1 = [\"a\", 7]\n",
    "this_list = [one, 'two', 3, four, list_1]\n",
    "```"
   ]
  },
  {
   "cell_type": "code",
   "execution_count": null,
   "metadata": {
    "colab": {},
    "colab_type": "code",
    "executionInfo": {
     "elapsed": 1207,
     "status": "ok",
     "timestamp": 1596178541155,
     "user": {
      "displayName": "KING CHAK HO",
      "photoUrl": "",
      "userId": "01684497642639073245"
     },
     "user_tz": -480
    },
    "id": "gPj8yW1JQQa-"
   },
   "outputs": [],
   "source": [
    "#remove '' for 'two'\n",
    "one = 'one'\n",
    "two = 2\n",
    "three = 3\n",
    "four = 'four'\n",
    "list_1 = [\"a\", 7]\n",
    "this_list = [one, two, 3, four, list_1]\n",
    "print(this_list)"
   ]
  },
  {
   "cell_type": "markdown",
   "metadata": {
    "colab_type": "text",
    "id": "JBgxfDs2_0RV"
   },
   "source": [
    "2. What is the set of the tuple ```(1,2,3,33,3,3,4,5)```?\n",
    "\n",
    "Expected output: `{1, 2, 3, 4, 5, 33}`"
   ]
  },
  {
   "cell_type": "code",
   "execution_count": null,
   "metadata": {
    "colab": {},
    "colab_type": "code",
    "executionInfo": {
     "elapsed": 1197,
     "status": "ok",
     "timestamp": 1596178541157,
     "user": {
      "displayName": "KING CHAK HO",
      "photoUrl": "",
      "userId": "01684497642639073245"
     },
     "user_tz": -480
    },
    "id": "f7FTRUFFQQbH"
   },
   "outputs": [],
   "source": [
    "set((1,2,3,33,3,3,4,5))"
   ]
  },
  {
   "cell_type": "markdown",
   "metadata": {
    "colab_type": "text",
    "id": "Qiqv6oXn_0RY"
   },
   "source": [
    "3. For the dictionary ```food_counts = {'eggs':6 , 'bacon':1 , 'sausages':4}```, add a new key in the dictionary called _milk_ with value 1.\n",
    "\n",
    "Expected output: `{'eggs': 6, 'bacon': 1, 'sausages': 4, 'milk': 1}`"
   ]
  },
  {
   "cell_type": "code",
   "execution_count": null,
   "metadata": {
    "colab": {},
    "colab_type": "code",
    "id": "7glH7UFjQQbM",
    "outputId": "21985665-fbd4-4efe-b14d-e6b3d41d71a2"
   },
   "outputs": [],
   "source": [
    "food_counts['milk'] = 1\n",
    "food_counts"
   ]
  },
  {
   "cell_type": "markdown",
   "metadata": {
    "colab_type": "text",
    "id": "ujc4S5jl_0Rb"
   },
   "source": [
    "4. For the string ```supercalifragilisticexpialidocious```, print out the string ```fragilistic``` using slicing."
   ]
  },
  {
   "cell_type": "code",
   "execution_count": null,
   "metadata": {
    "colab": {},
    "colab_type": "code",
    "executionInfo": {
     "elapsed": 1090,
     "status": "ok",
     "timestamp": 1596178609867,
     "user": {
      "displayName": "KING CHAK HO",
      "photoUrl": "",
      "userId": "01684497642639073245"
     },
     "user_tz": -480
    },
    "id": "sEJU4jJNQQbQ"
   },
   "outputs": [],
   "source": [
    "a = 'supercalifragilisticexpialidocious'\n",
    "print(a[9:20])"
   ]
  },
  {
   "cell_type": "markdown",
   "metadata": {
    "colab_type": "text",
    "id": "RC9LkzNb_0Rf"
   },
   "source": [
    "5. Given the dictionary ```{1: ['this', 'is', ['a', 'list']], '2': {'a': 'nother', 'd':'ictionary', '3': [1,2,3,4,5]}, 'three': ['list',{2:'woah', 3: 'good job!'}]}```\n",
    "\n",
    "Return the string _'good job'_ through indexing."
   ]
  },
  {
   "cell_type": "code",
   "execution_count": 26,
   "metadata": {
    "colab": {},
    "colab_type": "code",
    "executionInfo": {
     "elapsed": 1124,
     "status": "ok",
     "timestamp": 1596178615295,
     "user": {
      "displayName": "KING CHAK HO",
      "photoUrl": "",
      "userId": "01684497642639073245"
     },
     "user_tz": -480
    },
    "id": "u2mSgxvPQQbT"
   },
   "outputs": [
    {
     "name": "stdout",
     "output_type": "stream",
     "text": [
      "good job!\n"
     ]
    }
   ],
   "source": [
    "a = {1: ['this', 'is', ['a', 'list']], '2': {'a': 'nother', 'd':'ictionary', '3': [1,2,3,4,5]}, 'three': ['list',{2:'woah', 3: 'good job!'}]}\n",
    "\n",
    "print(a['three'][1][3])"
   ]
  },
  {
   "cell_type": "markdown",
   "metadata": {
    "colab_type": "text",
    "id": "d66BpJcoQQbV"
   },
   "source": [
    "6. Return the total number of lists inside a given list.\n",
    "\n",
    "```\n",
    "eg.\n",
    "for [[1, 2, 3], [1, 2, 3], [1, 2, 3], [1, 2, 3]] there are 4 sub-lists inside the list\n",
    "```"
   ]
  },
  {
   "cell_type": "code",
   "execution_count": null,
   "metadata": {
    "colab": {},
    "colab_type": "code",
    "executionInfo": {
     "elapsed": 1069,
     "status": "ok",
     "timestamp": 1596178634582,
     "user": {
      "displayName": "KING CHAK HO",
      "photoUrl": "",
      "userId": "01684497642639073245"
     },
     "user_tz": -480
    },
    "id": "hsTzriUNSEEM"
   },
   "outputs": [],
   "source": [
    "len([[1, 2, 3], [1, 2, 3], [1, 2, 3], [1, 2, 3]])"
   ]
  },
  {
   "cell_type": "markdown",
   "metadata": {
    "colab_type": "text",
    "id": "E-hp62GsQQbY"
   },
   "source": [
    "7. Return the indices of all occurrences of an item in the list.\n",
    "\n",
    "```\n",
    "eg.\n",
    "For the list [1, 5, 2, 7, 5], if we are trying to find all of the occurrences of 5, their indices are 1 and 4\n",
    "```"
   ]
  },
  {
   "cell_type": "code",
   "execution_count": 28,
   "metadata": {
    "colab": {},
    "colab_type": "code",
    "executionInfo": {
     "elapsed": 1517,
     "status": "ok",
     "timestamp": 1596178748733,
     "user": {
      "displayName": "KING CHAK HO",
      "photoUrl": "",
      "userId": "01684497642639073245"
     },
     "user_tz": -480
    },
    "id": "_31PsPfJQQbZ"
   },
   "outputs": [
    {
     "name": "stdout",
     "output_type": "stream",
     "text": [
      "1\n",
      "4\n"
     ]
    }
   ],
   "source": [
    "a = [1, 5, 2, 7, 5]\n",
    "\n",
    "count = a.count(5)\n",
    "c = 0\n",
    "d = 5\n",
    "index0 = 0\n",
    "\n",
    "while True:\n",
    "    print(a.index(d,index0))\n",
    "    index0 = a.index(d) + 1\n",
    "    c += 1\n",
    "    if c == count:\n",
    "        break\n",
    "\n"
   ]
  },
  {
   "cell_type": "code",
   "execution_count": 31,
   "metadata": {},
   "outputs": [
    {
     "name": "stdout",
     "output_type": "stream",
     "text": [
      "[1, 4]\n"
     ]
    }
   ],
   "source": [
    "a_list = [1, 5, 2, 7, 5]\n",
    "indices =[]\n",
    "for i in range(len(a_list)):\n",
    "    if a_list[i] == 5:\n",
    "        indices.append(i)\n",
    "\n",
    "print(indices)"
   ]
  },
  {
   "cell_type": "markdown",
   "metadata": {
    "colab_type": "text",
    "id": "pZyFoW3tQQbb"
   },
   "source": [
    "8. Take a dictionary and return the keys and values as separate lists.\n",
    "\n",
    "e.g. if `dict={\"a\": \"Apple\", \"b\": \"Microsoft\", \"c\": \"Google\"}`\n",
    "\n",
    "then output should be `[['a', 'b', 'c'], ['Apple', 'Microsoft', 'Google']]`\n",
    "\n",
    "\n"
   ]
  },
  {
   "cell_type": "code",
   "execution_count": null,
   "metadata": {
    "colab": {},
    "colab_type": "code",
    "id": "X5NalJZfQQbb"
   },
   "outputs": [],
   "source": [
    "dict={\"a\": \"Apple\", \"b\": \"Microsoft\", \"c\": \"Google\"}\n",
    "dict.keys(),dict.values()"
   ]
  },
  {
   "cell_type": "markdown",
   "metadata": {
    "colab_type": "text",
    "id": "pZEKdEcWQQbd"
   },
   "source": [
    "9. Take an integer and output an n x n square solely consisting of the integer n.\n",
    "\n",
    "```\n",
    "eg.\n",
    "For n = 3,\n",
    "the output should be\n",
    "\n",
    "3, 3, 3\n",
    "3, 3, 3\n",
    "3, 3, 3\n",
    "```"
   ]
  },
  {
   "cell_type": "code",
   "execution_count": 10,
   "metadata": {},
   "outputs": [
    {
     "name": "stdout",
     "output_type": "stream",
     "text": [
      "3, 3, 3\n",
      "3, 3, 3\n",
      "3, 3, 3\n"
     ]
    }
   ],
   "source": [
    "n =3\n",
    "for i in range(n):\n",
    "        print(', '.join(str(n)*3))\n",
    "    "
   ]
  },
  {
   "cell_type": "markdown",
   "metadata": {
    "colab_type": "text",
    "id": "rCEm2wyQQQbg"
   },
   "source": [
    "10. Given a phrase, return False if any individual word in the phrase contains duplicate letters. Return True otherwise."
   ]
  },
  {
   "cell_type": "code",
   "execution_count": 27,
   "metadata": {
    "colab": {},
    "colab_type": "code",
    "id": "Q5UIbO7uQQbg"
   },
   "outputs": [
    {
     "name": "stdout",
     "output_type": "stream",
     "text": [
      "hello,\n",
      "how\n",
      "are\n",
      "you?\n",
      "False\n"
     ]
    }
   ],
   "source": [
    "phrase = \"hello, how are you?\"\n",
    "word = phrase.split()\n",
    "count = 0\n",
    "for i in word:\n",
    "    print(i)\n",
    "    total = len(i)\n",
    "    unique = len(set(i))\n",
    "    if total == unique:\n",
    "        count +=0\n",
    "\n",
    "if count > 0:\n",
    "    print('True')\n",
    "else:\n",
    "    print('False')\n",
    "        \n"
   ]
  },
  {
   "cell_type": "code",
   "execution_count": 71,
   "metadata": {},
   "outputs": [
    {
     "name": "stdout",
     "output_type": "stream",
     "text": [
      "phrasehello fd\n",
      "False\n"
     ]
    }
   ],
   "source": [
    "phrase = input('phrase')\n",
    "word_list = phrase.split()\n",
    "counter = 0\n",
    "for word in word_list:\n",
    "    for letter in word:\n",
    "        if word.count(letter) > 1:\n",
    "            counter += 1\n",
    "            \n",
    "if counter > 1:\n",
    "    print('False')\n",
    "else:\n",
    "    print('True')\n"
   ]
  }
 ],
 "metadata": {
  "colab": {
   "collapsed_sections": [],
   "name": "PythonDataTypes-Exercise-2A.ipynb",
   "provenance": []
  },
  "kernelspec": {
   "display_name": "Python 3",
   "language": "python",
   "name": "python3"
  },
  "language_info": {
   "codemirror_mode": {
    "name": "ipython",
    "version": 3
   },
   "file_extension": ".py",
   "mimetype": "text/x-python",
   "name": "python",
   "nbconvert_exporter": "python",
   "pygments_lexer": "ipython3",
   "version": "3.8.8"
  }
 },
 "nbformat": 4,
 "nbformat_minor": 1
}
