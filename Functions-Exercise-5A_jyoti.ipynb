{
 "cells": [
  {
   "cell_type": "markdown",
   "metadata": {
    "colab_type": "text",
    "id": "jb0cXyZsNkIV"
   },
   "source": [
    "# Functions Exercise 5A (Compulsory)"
   ]
  },
  {
   "cell_type": "markdown",
   "metadata": {
    "colab_type": "text",
    "id": "-B3cE_gWNkIZ"
   },
   "source": [
    "1. Write a function that takes a positive integer as input and returns a list of squared numbers from 1 to the inputted positive integer.\n",
    "\n",
    "\n",
    "```\n",
    "Enter a positive integer.3\n",
    "1 squared is 1\n",
    "2 squared is 4\n",
    "3 squared is 9\n",
    "```\n",
    "\n"
   ]
  },
  {
   "cell_type": "code",
   "execution_count": null,
   "metadata": {
    "colab": {},
    "colab_type": "code",
    "id": "PgXPNRYPNkIb"
   },
   "outputs": [],
   "source": [
    "input1 = int(input('Enter a positive integer. '))\n",
    "for n in range(1,input1+1):\n",
    "    print(f\"{n} squared is {n*n}\")"
   ]
  },
  {
   "cell_type": "markdown",
   "metadata": {
    "colab_type": "text",
    "id": "_AgONksnNkIq"
   },
   "source": [
    "2. Create a palindrome function to check if a string is a palindrome. A palindrome is a string that is the same forwards and backwards such as radar, kayak, and racecar."
   ]
  },
  {
   "cell_type": "code",
   "execution_count": null,
   "metadata": {
    "colab": {},
    "colab_type": "code",
    "id": "qBKPvtmxNkIs"
   },
   "outputs": [],
   "source": [
    "def palindrome(word = ''):\n",
    "    print(word)\n",
    "    match = 0\n",
    "    a = 0\n",
    "    length = len(word)\n",
    "    for letter in range(length//2):\n",
    "        if word[0+a] == word[length-1-a]:\n",
    "            match += 1\n",
    "            a += 1\n",
    "    if match == length//2:\n",
    "        print('It is a palindrome')\n",
    "    else:\n",
    "        print('It is not a palindrome')\n",
    "\n",
    "palindrome('kayak')"
   ]
  },
  {
   "cell_type": "code",
   "execution_count": null,
   "metadata": {},
   "outputs": [],
   "source": [
    "print(range(5//2))"
   ]
  },
  {
   "cell_type": "markdown",
   "metadata": {
    "colab_type": "text",
    "id": "vPF7QBznNkI3"
   },
   "source": [
    "3. Write a function where a user can choose Celsius to Fahrenheit or Fahrenheit to Celsius and converts a float or integer according to the choice. For reference, here are the formulae for each choice:\n",
    " \n",
    "    Given 𝑥 is the value to convert. \n",
    " - Celsius to Fahrenheit: (𝑥°C × 9/5) + 32\n",
    " - Fahrenheit to Celsius: (𝑥°F − 32) × 5/9\n",
    "```\n",
    "e.g.\n",
    "Input the  temperature you like to convert? (e.g., 45F, 102C etc.) : 38c\n",
    "The temperature in Fahrenheit is 100 degrees.\n",
    "```\n",
    "\n"
   ]
  },
  {
   "cell_type": "code",
   "execution_count": null,
   "metadata": {
    "colab": {},
    "colab_type": "code",
    "id": "Yi2Tw8hmNkI4"
   },
   "outputs": [],
   "source": [
    "def degree_converter():\n",
    "    input1 = input('Input the  temperature you like to convert? (e.g., 45F, 102C etc.) : 38c')\n",
    "    degree = input1.lower()\n",
    "\n",
    "    if degree[-1] == 'c':\n",
    "        F = float(degree[0:-1])*9/5+32\n",
    "        print(f\"The temperature in Fahrenheit is {round(F,1)} degrees.\")\n",
    "\n",
    "    if degree[-1] == 'f':\n",
    "        C = (float(degree[0:-1])-32)*5/9\n",
    "        print(f\"The temperature in Celsius is {round(C,1)} degrees.\")\n",
    "    else:\n",
    "        print('Undefined')\n",
    "        \n",
    "degree_converter()"
   ]
  },
  {
   "cell_type": "markdown",
   "metadata": {
    "colab_type": "text",
    "id": "NO6U2mMsNkI-"
   },
   "source": [
    "4.  Write a function that takes a string as input to remove all duplicate words, then sort in alphabetical order.\n",
    "```\n",
    "e.g.\n",
    "Enter string:I am hello and I am world\n",
    "I\n",
    "am\n",
    "and\n",
    "hello\n",
    "world\n",
    "```\n",
    "\n"
   ]
  },
  {
   "cell_type": "code",
   "execution_count": null,
   "metadata": {
    "colab": {},
    "colab_type": "code",
    "id": "4FSuj-FANkJA"
   },
   "outputs": [],
   "source": [
    "def function(word = ''):\n",
    "    phrase = input('Enter string: ')\n",
    "    z = sorted(set(phrase.split()))\n",
    "    print(z)\n",
    "\n",
    "function()"
   ]
  },
  {
   "cell_type": "markdown",
   "metadata": {
    "colab_type": "text",
    "id": "3nMAUfvENkJG"
   },
   "source": [
    "5. Given a lower limit and upper limit as integers, create a function that generates random integers with the given range.\n",
    "```\n",
    "e.g.\n",
    "Enter upper limit:100\n",
    "Enter lower limit:1\n",
    "8\n",
    "91\n",
    "10\n",
    "39\n",
    "58\n",
    "87\n",
    "52\n",
    "53\n",
    "88\n",
    "99\n",
    "```\n",
    "\n"
   ]
  },
  {
   "cell_type": "code",
   "execution_count": 8,
   "metadata": {
    "colab": {},
    "colab_type": "code",
    "id": "XvWnLH2yNkJH"
   },
   "outputs": [
    {
     "name": "stdout",
     "output_type": "stream",
     "text": [
      "Enter upper limit: 111\n",
      "Enter lower limit: 2\n",
      "4\n",
      "71\n",
      "34\n",
      "47\n",
      "109\n",
      "18\n",
      "54\n",
      "22\n",
      "55\n",
      "65\n"
     ]
    }
   ],
   "source": [
    "def generator():\n",
    "    upper = int(input('Enter upper limit: '))\n",
    "    lower = int(input('Enter lower limit: '))\n",
    "    for i in range(0,10):\n",
    "        value = random.randint(lower,upper)\n",
    "        print(value)\n",
    "\n",
    "    \n",
    "import random\n",
    "generator()\n"
   ]
  },
  {
   "cell_type": "markdown",
   "metadata": {
    "colab_type": "text",
    "id": "oJ_CveIvNkJL"
   },
   "source": [
    "6. Create a function that takes a string of lowercase characters and returns that string reversed and in upper case.\n",
    "```\n",
    "e.g.\n",
    "input: helloworld\n",
    "output: 'DLROWOLLEH'\n",
    "```\n",
    "\n"
   ]
  },
  {
   "cell_type": "code",
   "execution_count": 10,
   "metadata": {
    "colab": {},
    "colab_type": "code",
    "id": "VjsgqC4ZNkJM"
   },
   "outputs": [
    {
     "name": "stdout",
     "output_type": "stream",
     "text": [
      "DD OLLEH\n"
     ]
    }
   ],
   "source": [
    "def function(word = ''):\n",
    "    a = 0\n",
    "    wordlist = list(word.upper())\n",
    "    length = len(wordlist)\n",
    "    newword = []\n",
    "    for i in range(length):\n",
    "        newword.append(wordlist[-1-a])\n",
    "        a += 1\n",
    "    print(''.join(newword))\n",
    "\n",
    "function('hello dd')"
   ]
  },
  {
   "cell_type": "markdown",
   "metadata": {
    "colab_type": "text",
    "id": "MpgEf8YDNkJW"
   },
   "source": [
    "7. Write a function that takes a string, breaks it up and returns it with vowels first, consonants second. For any character that's not a vowel (like special characters or spaces), treat them like consonants.\n",
    "```\n",
    "e.g.\n",
    "input: aAefkvdfvIeoU\n",
    "output: aAeIeoUfkvdfv\n",
    "```\n",
    "\n"
   ]
  },
  {
   "cell_type": "code",
   "execution_count": 14,
   "metadata": {
    "colab": {},
    "colab_type": "code",
    "id": "KF3dR0TVNkJd"
   },
   "outputs": [
    {
     "name": "stdout",
     "output_type": "stream",
     "text": [
      "input: hfdAA\n",
      "output: AAhfd\n"
     ]
    }
   ],
   "source": [
    "def function():\n",
    "    word = input('input: ')\n",
    "    vowel = []\n",
    "    consonants = []\n",
    "    list1 = 'aeiouAEIOU'\n",
    "    for letter in word:\n",
    "        if letter in list1:\n",
    "            vowel.append(letter)\n",
    "        else:\n",
    "            consonants.append(letter)\n",
    "    vowel.extend(consonants)\n",
    "    print(f\"output: {''.join(vowel)}\")\n",
    "    \n",
    "function()"
   ]
  },
  {
   "cell_type": "markdown",
   "metadata": {
    "colab_type": "text",
    "id": "1NswFPG9NkJh"
   },
   "source": [
    "8. You will be implementing a basic case of the map-reduce pattern in programming. Given a vector stored as a list of integers, find the magnitude of the vector. Use the standard distance formula for n-dimensional Cartesian coordinates.\n",
    "\n",
    "Examples\n",
    "\n",
    "magnitude([3, 4]) ➞ 5\n",
    "\n",
    "magnitude([0, 0, -10]) ➞ 10\n",
    "\n",
    "magnitude([]) ➞ 0\n",
    "\n",
    "magnitude([2, 3, 6, 1, 8] ) ➞ 10.677078252031311"
   ]
  },
  {
   "cell_type": "code",
   "execution_count": 23,
   "metadata": {
    "colab": {},
    "colab_type": "code",
    "id": "k4QkSjbrNkJi"
   },
   "outputs": [
    {
     "data": {
      "text/plain": [
       "5.0"
      ]
     },
     "execution_count": 23,
     "metadata": {},
     "output_type": "execute_result"
    }
   ],
   "source": [
    "def magnitude(*xyz):\n",
    "    return (sum(x**2 for x in xyz))**0.5\n",
    "\n",
    "magnitude(*[3,4])"
   ]
  },
  {
   "cell_type": "markdown",
   "metadata": {
    "colab_type": "text",
    "id": "ZBPm4yriNkJm"
   },
   "source": [
    "9. Create a function that takes a string as an argument and returns a coded version of the string. In order to work properly, the function should replace all 'a's with 4, 'e's with 3, 'i's with 1, 'o's with 0, and 's's with 5."
   ]
  },
  {
   "cell_type": "code",
   "execution_count": 29,
   "metadata": {
    "colab": {},
    "colab_type": "code",
    "id": "PLinmHadNkJm"
   },
   "outputs": [
    {
     "name": "stdout",
     "output_type": "stream",
     "text": [
      "43hh1\n"
     ]
    }
   ],
   "source": [
    "def function(string =''):\n",
    "    string = list(string)\n",
    "    dict1 = {'a':4, 'e':3, 'i':1, 'o':0, 's':5}\n",
    "    for i in range(len(string)):\n",
    "        if string[i] in dict1.keys():\n",
    "            string[i] = str(dict1[string[i]])\n",
    "            join = ''.join(string)\n",
    "    print(join)\n",
    "\n",
    "function('aehhi')"
   ]
  },
  {
   "cell_type": "code",
   "execution_count": 24,
   "metadata": {},
   "outputs": [],
   "source": [
    "def function(string =''):\n",
    "    return (string.replace(x) for x in string if string in 'aeiouAEiou')"
   ]
  },
  {
   "cell_type": "markdown",
   "metadata": {
    "colab_type": "text",
    "id": "mxNcemUJNkJq"
   },
   "source": [
    "10. A repdigit is a positive number composed out of the same digit.\n",
    "\n",
    "Create a function that takes an integer and returns whether it's a repdigit or not.\n",
    "```\n",
    "eg.\n",
    "777 is a repdigit\n",
    "737 is not a repdigit\n",
    "```"
   ]
  },
  {
   "cell_type": "code",
   "execution_count": null,
   "metadata": {
    "colab": {},
    "colab_type": "code",
    "id": "J4RSuMF4NkJq"
   },
   "outputs": [],
   "source": [
    "def repdigit(int1):\n",
    "    set1 = set(str(int1))\n",
    "    if len(str(int1)) > 1 and len(set1) == 1:\n",
    "        print(f\"{int(int1)} is a repdigit\")\n",
    "    else:\n",
    "        print(f\"{int(int1)} is not a repdigit\")\n",
    "    \n",
    "repdigit(666)\n",
    "repdigit(393)"
   ]
  },
  {
   "cell_type": "code",
   "execution_count": 32,
   "metadata": {},
   "outputs": [
    {
     "name": "stdout",
     "output_type": "stream",
     "text": [
      "Enter a number:111\n",
      "111 is a repdigit\n"
     ]
    }
   ],
   "source": [
    "def check(n):\n",
    "    \n",
    "    if str(n) == str(n)[0] * len(str(n)):\n",
    "        print (n, 'is a repdigit')\n",
    "    else:\n",
    "        print (n, 'is not a repdigit')\n",
    "\n",
    "n = input('Enter a number:')\n",
    "\n",
    "check(n)"
   ]
  }
 ],
 "metadata": {
  "colab": {
   "collapsed_sections": [],
   "name": "Functions-Exercise-5A_jyoti.ipynb",
   "provenance": []
  },
  "kernelspec": {
   "display_name": "Python 3",
   "language": "python",
   "name": "python3"
  },
  "language_info": {
   "codemirror_mode": {
    "name": "ipython",
    "version": 3
   },
   "file_extension": ".py",
   "mimetype": "text/x-python",
   "name": "python",
   "nbconvert_exporter": "python",
   "pygments_lexer": "ipython3",
   "version": "3.8.8"
  },
  "toc": {
   "base_numbering": 1,
   "nav_menu": {},
   "number_sections": true,
   "sideBar": true,
   "skip_h1_title": false,
   "title_cell": "Table of Contents",
   "title_sidebar": "Contents",
   "toc_cell": false,
   "toc_position": {},
   "toc_section_display": true,
   "toc_window_display": false
  },
  "varInspector": {
   "cols": {
    "lenName": 16,
    "lenType": 16,
    "lenVar": 40
   },
   "kernels_config": {
    "python": {
     "delete_cmd_postfix": "",
     "delete_cmd_prefix": "del ",
     "library": "var_list.py",
     "varRefreshCmd": "print(var_dic_list())"
    },
    "r": {
     "delete_cmd_postfix": ") ",
     "delete_cmd_prefix": "rm(",
     "library": "var_list.r",
     "varRefreshCmd": "cat(var_dic_list()) "
    }
   },
   "types_to_exclude": [
    "module",
    "function",
    "builtin_function_or_method",
    "instance",
    "_Feature"
   ],
   "window_display": false
  }
 },
 "nbformat": 4,
 "nbformat_minor": 1
}
