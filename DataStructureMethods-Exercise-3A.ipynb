{
 "cells": [
  {
   "cell_type": "markdown",
   "metadata": {
    "colab_type": "text",
    "id": "-FcKMTIBt2C5"
   },
   "source": [
    "# Data Structure Methods & Comprehensions Exercise 3A (Compulsory)"
   ]
  },
  {
   "cell_type": "markdown",
   "metadata": {
    "colab_type": "text",
    "id": "kqbxYAMut2C7"
   },
   "source": [
    "1. Create a list with only odd numbers from 1 to 23.\n",
    "\n",
    "\n",
    "```\n",
    "e.g. [1, 3, 5, 7, 9, 11, 13, 15, 17, 19, 21, 23]\n",
    "```\n",
    "\n"
   ]
  },
  {
   "cell_type": "code",
   "execution_count": 16,
   "metadata": {
    "colab": {},
    "colab_type": "code",
    "executionInfo": {
     "elapsed": 969,
     "status": "ok",
     "timestamp": 1596179630865,
     "user": {
      "displayName": "KING CHAK HO",
      "photoUrl": "",
      "userId": "01684497642639073245"
     },
     "user_tz": -480
    },
    "id": "I3cxjQsvt2DE"
   },
   "outputs": [
    {
     "name": "stdout",
     "output_type": "stream",
     "text": [
      "[1, 3, 5, 7, 9, 11, 13, 15, 17, 19, 21, 23]\n"
     ]
    }
   ],
   "source": [
    "a_list = list(range(1,24))\n",
    "b_list = a_list[::2]\n",
    "print(b_list)"
   ]
  },
  {
   "cell_type": "markdown",
   "metadata": {
    "colab_type": "text",
    "id": "gdOpNQQOt2DI"
   },
   "source": [
    "2. Calculate the sum of the digits from the string:\n",
    "```'2347805673456'```"
   ]
  },
  {
   "cell_type": "code",
   "execution_count": 48,
   "metadata": {
    "colab": {},
    "colab_type": "code",
    "executionInfo": {
     "elapsed": 854,
     "status": "ok",
     "timestamp": 1596179643960,
     "user": {
      "displayName": "KING CHAK HO",
      "photoUrl": "",
      "userId": "01684497642639073245"
     },
     "user_tz": -480
    },
    "id": "PR8yFjfnt2DJ"
   },
   "outputs": [
    {
     "data": {
      "text/plain": [
       "60"
      ]
     },
     "execution_count": 48,
     "metadata": {},
     "output_type": "execute_result"
    }
   ],
   "source": [
    "c_list = list('2347805673456')\n",
    "c_list = [int(i) for i in c_list]\n",
    "sum(c_list)"
   ]
  },
  {
   "cell_type": "markdown",
   "metadata": {
    "colab_type": "text",
    "id": "dt5F5uZVt2DS"
   },
   "source": [
    "3. Convert the string to a list and uppercase each word.\n",
    "```\n",
    "s = \"hello world and practice makes permanent and hello world again\"\n",
    "```\n",
    "```\n",
    "output:\n",
    "['HELLO',\n",
    " 'WORLD',\n",
    " 'AND',\n",
    " 'PRACTICE',\n",
    " 'MAKES',\n",
    " 'PERMANENT',\n",
    " 'AND',\n",
    " 'HELLO',\n",
    " 'WORLD',\n",
    " 'AGAIN']\n",
    "```\n",
    "\n"
   ]
  },
  {
   "cell_type": "code",
   "execution_count": 54,
   "metadata": {
    "colab": {},
    "colab_type": "code",
    "id": "5VUIavTmvImI"
   },
   "outputs": [
    {
     "name": "stdout",
     "output_type": "stream",
     "text": [
      "['HELLO', 'WORLD', 'AND', 'PRACTICE', 'MAKES', 'PERMANENT', 'AND', 'HELLO', 'WORLD', 'AGAIN']\n"
     ]
    }
   ],
   "source": [
    "s = \"hello world and practice makes permanent and hello world again\"\n",
    "s = s.upper().split()\n",
    "print(s)"
   ]
  },
  {
   "cell_type": "markdown",
   "metadata": {
    "colab_type": "text",
    "id": "R00SguL0t2DX"
   },
   "source": [
    "4. Get all the keys from the dictionary:\n",
    "```\n",
    "cars = {'cars':['bmw, tesla'], 'food':['mexican', 'sushi'], 'location': 'hong kong'}\n",
    "```\n",
    "```\n",
    "output:\n",
    "dict_keys(['cars', 'food', 'location'])\n",
    "```\n",
    "\n"
   ]
  },
  {
   "cell_type": "code",
   "execution_count": 56,
   "metadata": {
    "colab": {},
    "colab_type": "code",
    "id": "dCce85HAt2DX"
   },
   "outputs": [
    {
     "data": {
      "text/plain": [
       "dict_keys(['cars', 'food', 'location'])"
      ]
     },
     "execution_count": 56,
     "metadata": {},
     "output_type": "execute_result"
    }
   ],
   "source": [
    "cars = {'cars':['bmw, tesla'], 'food':['mexican', 'sushi'], 'location': 'hong kong'}\n",
    "cars.keys()"
   ]
  },
  {
   "cell_type": "markdown",
   "metadata": {
    "colab_type": "text",
    "id": "vovfgUIat2DY"
   },
   "source": [
    "5. Combine the two lists together in the same sequence.\n",
    "\n",
    "```\n",
    "l1 = ['basketball', 'gym', 'football', 'cycling']\n",
    "l2 = ['apples', 'bread', 'oats', 'salmon']\n",
    "```\n",
    "\n",
    "\n",
    "```\n",
    "output:\n",
    "['basketball',\n",
    " 'apples',\n",
    " 'gym',\n",
    " 'bread',\n",
    " 'football',\n",
    " 'oats',\n",
    " 'cycling',\n",
    " 'salmon']\n",
    "```\n",
    "\n"
   ]
  },
  {
   "cell_type": "code",
   "execution_count": 125,
   "metadata": {
    "colab": {},
    "colab_type": "code",
    "executionInfo": {
     "elapsed": 841,
     "status": "ok",
     "timestamp": 1596179904697,
     "user": {
      "displayName": "KING CHAK HO",
      "photoUrl": "",
      "userId": "01684497642639073245"
     },
     "user_tz": -480
    },
    "id": "5uTqqpebt2DZ"
   },
   "outputs": [
    {
     "ename": "SyntaxError",
     "evalue": "invalid syntax (<ipython-input-125-95dab88c4bf1>, line 3)",
     "output_type": "error",
     "traceback": [
      "\u001b[0;36m  File \u001b[0;32m\"<ipython-input-125-95dab88c4bf1>\"\u001b[0;36m, line \u001b[0;32m3\u001b[0m\n\u001b[0;31m    11.extend(12)\u001b[0m\n\u001b[0m       ^\u001b[0m\n\u001b[0;31mSyntaxError\u001b[0m\u001b[0;31m:\u001b[0m invalid syntax\n"
     ]
    }
   ],
   "source": [
    "l1= ['basketball', 'gym', 'football', 'cycling']\n",
    "l2= ['apples', 'bread', 'oats', 'salmon']\n",
    "11.extend(12)\n",
    "print(12)\n"
   ]
  },
  {
   "cell_type": "markdown",
   "metadata": {
    "colab_type": "text",
    "id": "0EzGbVInt2Db"
   },
   "source": [
    "6. Take a string and calculate the number of letters and digits within it. Return the result in a dictionary.\n",
    "\n",
    "\n",
    "\n",
    "```\n",
    "e.g. \n",
    "txt = \"H3ll0 Wor1d\"\n",
    "\n",
    "output:\n",
    "{'LETTERS': 7, 'DIGITS': 3}\n",
    "```\n",
    "\n"
   ]
  },
  {
   "cell_type": "code",
   "execution_count": 136,
   "metadata": {
    "colab": {},
    "colab_type": "code",
    "id": "Bebfdk4Vt2Dc"
   },
   "outputs": [
    {
     "name": "stdout",
     "output_type": "stream",
     "text": [
      "'LETTERS': 7, 'DIGITS': 3\n"
     ]
    }
   ],
   "source": [
    "txt = \"H3ll0 Wor1d\"\n",
    "txt = list(txt)\n",
    "digit = 0\n",
    "letter = 0\n",
    "for i in txt:\n",
    "    if i.isdigit() == True:\n",
    "        digit += 1\n",
    "    elif i.isalpha() == True:\n",
    "        letter += 1\n",
    "print(\"'LETTERS': {}, 'DIGITS': {}\".format(letter,digit))"
   ]
  },
  {
   "cell_type": "markdown",
   "metadata": {
    "colab_type": "text",
    "id": "kV5SFMX_t2Dd"
   },
   "source": [
    "7. Given a dictionary containing the names and ages of a group of people, return the name of the oldest person.\n",
    "\n",
    "\n",
    "\n",
    "```\n",
    "input:\n",
    "people = {\"Emma\": 71, \"Jack\": 45, \"Amy\": 15, \"Ben\": 29}\n",
    "\n",
    "output:\n",
    "'Emma'\n",
    "```\n",
    "\n"
   ]
  },
  {
   "cell_type": "code",
   "execution_count": 177,
   "metadata": {
    "colab": {},
    "colab_type": "code",
    "id": "7u40eAz0t2De"
   },
   "outputs": [
    {
     "name": "stdout",
     "output_type": "stream",
     "text": [
      "Emma\n"
     ]
    }
   ],
   "source": [
    "people = {\"Emma\": 71, \"Jack\": 45, \"Amy\": 15, \"Ben\": 29}\n",
    "a = people.values()\n",
    "find = max(a)\n",
    "for k,v in people.items():\n",
    "    if v == find:\n",
    "        print(k)\n",
    "\n"
   ]
  },
  {
   "cell_type": "markdown",
   "metadata": {
    "colab_type": "text",
    "id": "bOMFFOOet2Df"
   },
   "source": [
    "8. Given two strings, return the total number of unique characters from the combined string.\n",
    "\n",
    "\n",
    "\n",
    "```\n",
    "e.g.\n",
    "s1 = \"apple\"\n",
    "s2 = \"play\"\n",
    "\n",
    "ouput:5\n",
    "```\n",
    "\n"
   ]
  },
  {
   "cell_type": "code",
   "execution_count": 197,
   "metadata": {
    "colab": {},
    "colab_type": "code",
    "id": "6UjWA4EMt2Df"
   },
   "outputs": [
    {
     "data": {
      "text/plain": [
       "5"
      ]
     },
     "execution_count": 197,
     "metadata": {},
     "output_type": "execute_result"
    }
   ],
   "source": [
    "s1 = \"apple\"\n",
    "s2 = \"play\"\n",
    "combine = set(list(s1)+list(s2))\n",
    "len(combine)\n"
   ]
  },
  {
   "cell_type": "markdown",
   "metadata": {
    "colab_type": "text",
    "id": "apnfagXOt2Dg"
   },
   "source": [
    "9. You work for a manufacturer, and have been asked to calculate the total profit made on the sales of a product. You are given a dictionary containing the cost price per unit (in dollars), sell price per unit (in dollars), and the starting inventory. Return the total profit made, rounded to the nearest dollar. Assume all of the inventory has been sold.\n",
    "```\n",
    "{\n",
    "  \"cost_price\": 32.67,\n",
    "  \"sell_price\": 45.00,\n",
    "  \"inventory\": 1200\n",
    "}\n",
    "```\n",
    "\n"
   ]
  },
  {
   "cell_type": "code",
   "execution_count": 209,
   "metadata": {
    "colab": {},
    "colab_type": "code",
    "id": "b7dnn4ebt2Dg"
   },
   "outputs": [
    {
     "name": "stdout",
     "output_type": "stream",
     "text": [
      "14795\n"
     ]
    }
   ],
   "source": [
    "product = {\n",
    "\"cost_price\": 32.67,\n",
    "\"sell_price\": 45.00,\n",
    "\"inventory\": 1200\n",
    "}\n",
    "profit = (product['sell_price'] - product['cost_price'] )* product['inventory']\n",
    "print(int(profit))\n",
    "    "
   ]
  },
  {
   "cell_type": "markdown",
   "metadata": {
    "colab_type": "text",
    "id": "6cXhjlgVt2Di"
   },
   "source": [
    "10. Find the smallest number of letter removals so that two strings are anagrams of each other.\n",
    "\n",
    "An anagram of a string is another string that contains same characters, only the order of characters can be different. For example, “abcd” and “dabc” are anagram of each other."
   ]
  },
  {
   "cell_type": "code",
   "execution_count": 8,
   "metadata": {
    "colab": {},
    "colab_type": "code",
    "id": "3ObjRQNit2Di"
   },
   "outputs": [
    {
     "name": "stdout",
     "output_type": "stream",
     "text": [
      "{'r', 't', 'l', 'e'}\n",
      "{'t', 'a', 'c', 'd', 'r', 'b', 'l', 'e'}\n"
     ]
    }
   ],
   "source": [
    "a = 'letter'\n",
    "b = 'aeltterbcde'\n",
    "\n",
    "print(set(list(a)))\n",
    "print(set(list(b)))\n",
    "\n"
   ]
  },
  {
   "cell_type": "code",
   "execution_count": null,
   "metadata": {},
   "outputs": [],
   "source": [
    "s1 ='abcdd'\n",
    "s2 = 'bcde'\n"
   ]
  },
  {
   "cell_type": "code",
   "execution_count": 1,
   "metadata": {},
   "outputs": [],
   "source": [
    "def angm_creator(a,b):\n",
    "    n = 0\n",
    "    for i in a:\n",
    "        if i not in b or a.count(i) > b.count(i):\n",
    "            n += 1\n",
    "            a = a.replace(i,'',1)\n",
    "    for i in b:\n",
    "        if i not in a or b.count(i) > a.count(i):\n",
    "            n +=1\n",
    "            b = b.replace(i,'',1)\n",
    "    return n"
   ]
  },
  {
   "cell_type": "code",
   "execution_count": 2,
   "metadata": {},
   "outputs": [
    {
     "data": {
      "text/plain": [
       "3"
      ]
     },
     "execution_count": 2,
     "metadata": {},
     "output_type": "execute_result"
    }
   ],
   "source": [
    "angm_creator('abcdd','bcde')"
   ]
  },
  {
   "cell_type": "code",
   "execution_count": null,
   "metadata": {},
   "outputs": [],
   "source": []
  }
 ],
 "metadata": {
  "colab": {
   "collapsed_sections": [],
   "name": "DataStructureMethods-Exercise-3A.ipynb",
   "provenance": []
  },
  "kernelspec": {
   "display_name": "Python 3",
   "language": "python",
   "name": "python3"
  },
  "language_info": {
   "codemirror_mode": {
    "name": "ipython",
    "version": 3
   },
   "file_extension": ".py",
   "mimetype": "text/x-python",
   "name": "python",
   "nbconvert_exporter": "python",
   "pygments_lexer": "ipython3",
   "version": "3.8.8"
  },
  "toc": {
   "base_numbering": 1,
   "nav_menu": {},
   "number_sections": true,
   "sideBar": true,
   "skip_h1_title": false,
   "title_cell": "Table of Contents",
   "title_sidebar": "Contents",
   "toc_cell": false,
   "toc_position": {},
   "toc_section_display": true,
   "toc_window_display": false
  },
  "varInspector": {
   "cols": {
    "lenName": 16,
    "lenType": 16,
    "lenVar": 40
   },
   "kernels_config": {
    "python": {
     "delete_cmd_postfix": "",
     "delete_cmd_prefix": "del ",
     "library": "var_list.py",
     "varRefreshCmd": "print(var_dic_list())"
    },
    "r": {
     "delete_cmd_postfix": ") ",
     "delete_cmd_prefix": "rm(",
     "library": "var_list.r",
     "varRefreshCmd": "cat(var_dic_list()) "
    }
   },
   "types_to_exclude": [
    "module",
    "function",
    "builtin_function_or_method",
    "instance",
    "_Feature"
   ],
   "window_display": false
  }
 },
 "nbformat": 4,
 "nbformat_minor": 1
}
