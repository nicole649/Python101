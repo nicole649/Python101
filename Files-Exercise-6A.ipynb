{
 "cells": [
  {
   "cell_type": "code",
   "execution_count": null,
   "metadata": {
    "colab": {},
    "colab_type": "code",
    "id": "tDpKNXqMGabC"
   },
   "outputs": [],
   "source": [
    "# File IO Exercise 6A (Compulsory)\n",
    "\n",
    "For this exercise, please refer to the text files located in the data folder."
   ]
  },
  {
   "cell_type": "code",
   "execution_count": null,
   "metadata": {},
   "outputs": [],
   "source": [
    "os.chdir('..')"
   ]
  },
  {
   "cell_type": "code",
   "execution_count": 1,
   "metadata": {},
   "outputs": [
    {
     "data": {
      "text/plain": [
       "'/Users/nicole/Desktop/PrepWork-New/06Files/Day 6/exercises'"
      ]
     },
     "execution_count": 1,
     "metadata": {},
     "output_type": "execute_result"
    }
   ],
   "source": [
    "import os\n",
    "os.getcwd()"
   ]
  },
  {
   "cell_type": "code",
   "execution_count": 2,
   "metadata": {},
   "outputs": [
    {
     "data": {
      "text/plain": [
       "['quick-fox-_copy.txt',\n",
       " 'zen-of-python.txt',\n",
       " '.DS_Store',\n",
       " 'some-string.txt',\n",
       " 'quick-fox.txt',\n",
       " 'Python-wiki.txt',\n",
       " 'some-text.txt',\n",
       " 'some-text5.txt']"
      ]
     },
     "execution_count": 2,
     "metadata": {},
     "output_type": "execute_result"
    }
   ],
   "source": [
    "os.listdir('data')"
   ]
  },
  {
   "cell_type": "markdown",
   "metadata": {
    "colab_type": "text",
    "id": "XsitxLc0GabZ"
   },
   "source": [
    "1. Count the frequency of words in the text file \"Python-wiki.txt\".\n",
    "\n",
    "```\n",
    "NB. By default, the system will try to open text files with UTF-8 encoding, which only supports the ASCII character set and some common characters. But the text file Python-wiki contains characters that are not supported by UTF-8, so you will have to specify the encoding of the file in order to open it. (Hint: It's using the latin_1 encoding.)\n",
    "```"
   ]
  },
  {
   "cell_type": "code",
   "execution_count": null,
   "metadata": {
    "colab": {},
    "colab_type": "code",
    "id": "KdA4t8Ws-LPr"
   },
   "outputs": [],
   "source": [
    "import codecs\n",
    "with codecs.open('data/Python-wiki.txt',encoding = 'latin_1',mode = 'r') as f:\n",
    "    text = f.read().split()\n",
    "    text1 = text\n",
    "    for word in text1:\n",
    "        counter = 0\n",
    "        for compare in text1:\n",
    "            if word == compare:\n",
    "                counter +=1\n",
    "        print(f\"The frequency of '{word}' is : {counter}\")"
   ]
  },
  {
   "cell_type": "code",
   "execution_count": null,
   "metadata": {},
   "outputs": [],
   "source": [
    "# use count() function\n",
    "import os\n",
    "import codecs\n",
    "with codecs.open('data/Python-wiki.txt', encoding = 'latin_1',mode ='r') as f:\n",
    "    textlist = f.read().split()\n",
    "    for word in textlist:\n",
    "        print(f\"'The frequecny of '{word}' is: {textlist.count(word)}\")"
   ]
  },
  {
   "cell_type": "markdown",
   "metadata": {
    "colab_type": "text",
    "id": "1bRHqO4_Gabw"
   },
   "source": [
    "2. Read the first n lines of the file \"zen-of-python.txt\" and put the lines in a list.\n",
    "\n",
    "```\n",
    "e.g.\n",
    "input: 6\n",
    "ouput: ['Beautiful is better than ugly.\\n', 'Explicit is better than implicit.\\n', 'Simple is better than complex.\\n', 'Complex is better than complicated.\\n', 'Flat is better than nested.\\n', 'Sparse is better than dense.\\n']\n",
    "```\n",
    "\n"
   ]
  },
  {
   "cell_type": "code",
   "execution_count": null,
   "metadata": {
    "colab": {},
    "colab_type": "code",
    "id": "q1Rd_nFuGab4",
    "outputId": "892fb3bb-0385-4519-9187-b7b1cee3743b"
   },
   "outputs": [],
   "source": [
    "l = []\n",
    "input1 = input()\n",
    "import codecs\n",
    "with codecs.open('data/zen-of-python.txt',encoding = 'latin_1', mode='r') as a:\n",
    "    lines = a.readlines()\n",
    "    for n in range(int(input1)):\n",
    "        l.append(lines[n])\n",
    "print(l)"
   ]
  },
  {
   "cell_type": "markdown",
   "metadata": {
    "colab_type": "text",
    "id": "JaogbuAOGacM"
   },
   "source": [
    "3. Remove newline characters from the file \"zen-of-python.txt\"."
   ]
  },
  {
   "cell_type": "code",
   "execution_count": null,
   "metadata": {
    "colab": {},
    "colab_type": "code",
    "id": "8ycu4uFEnx1M"
   },
   "outputs": [],
   "source": [
    "l = []\n",
    "with codecs.open('data/zen-of-python.txt',encoding = 'latin_1',mode='r') as a:\n",
    "    line = a.readlines()\n",
    "    for line in line:\n",
    "        l.append(line.strip('\\n'))\n",
    "l\n",
    "    "
   ]
  },
  {
   "cell_type": "markdown",
   "metadata": {
    "colab_type": "text",
    "id": "sPe0uqCYntUm"
   },
   "source": [
    "4. Make a copy  of quick-fox.txt using python."
   ]
  },
  {
   "cell_type": "code",
   "execution_count": null,
   "metadata": {
    "colab": {},
    "colab_type": "code",
    "executionInfo": {
     "elapsed": 986,
     "status": "ok",
     "timestamp": 1596183906883,
     "user": {
      "displayName": "KING CHAK HO",
      "photoUrl": "",
      "userId": "01684497642639073245"
     },
     "user_tz": -480
    },
    "id": "zZKHb0WGGacT"
   },
   "outputs": [],
   "source": [
    "import shutil\n",
    "source = 'data/quick-fox.txt'\n",
    "destination  = 'data/quick-fox-_copy.txt'\n",
    "dest = shutil.copyfile(source,destination)\n"
   ]
  },
  {
   "cell_type": "code",
   "execution_count": null,
   "metadata": {},
   "outputs": [],
   "source": [
    "os.listdir('data')"
   ]
  },
  {
   "cell_type": "markdown",
   "metadata": {
    "colab_type": "text",
    "id": "tCn22nze9T0w"
   },
   "source": [
    "5. Create a new text file called 'some-text.txt' that has \"first sentence\" as its first line and \"second sentence\" as its second line."
   ]
  },
  {
   "cell_type": "code",
   "execution_count": null,
   "metadata": {
    "colab": {},
    "colab_type": "code",
    "id": "8GcosRyI9T0x"
   },
   "outputs": [],
   "source": [
    "s1 = \"first sentence\\nsecond sentence\"\n",
    "with open('data/some-text5.txt','w') as f:\n",
    "    f.write(s1)"
   ]
  },
  {
   "cell_type": "code",
   "execution_count": null,
   "metadata": {},
   "outputs": [],
   "source": [
    "with open('data/some-text5.txt','r') as f:\n",
    "    l = f.read()\n",
    "l"
   ]
  },
  {
   "cell_type": "code",
   "execution_count": null,
   "metadata": {},
   "outputs": [],
   "source": [
    "with open('data/some-text5.txt','r') as f: #f is the filehandle\n",
    "    lines  = f.readlines()\n",
    "print(f\"The file has {len(lines)} lines\")\n",
    "print(lines)"
   ]
  },
  {
   "cell_type": "markdown",
   "metadata": {
    "colab_type": "text",
    "id": "mxKW6TPK9T0y"
   },
   "source": [
    "6. Capitalize all the words in \"quick-fox.txt\"."
   ]
  },
  {
   "cell_type": "code",
   "execution_count": null,
   "metadata": {},
   "outputs": [],
   "source": [
    "import os\n",
    "with open('data/quick-fox.txt', encoding = 'latin_1', mode = 'r') as f:\n",
    "    text = f.read().upper()\n",
    "    new_text = []\n",
    "    new_text.append(text)\n",
    "new_text"
   ]
  },
  {
   "cell_type": "markdown",
   "metadata": {
    "colab_type": "text",
    "id": "jBWKHQm59T00"
   },
   "source": [
    "7. Remove all the vowels in the text file \"zen-of-python.txt\"."
   ]
  },
  {
   "cell_type": "code",
   "execution_count": 71,
   "metadata": {
    "colab": {},
    "colab_type": "code",
    "id": "X113cLRl9T01"
   },
   "outputs": [
    {
     "name": "stdout",
     "output_type": "stream",
     "text": [
      "['Btfl s bttr thn gly.\\n', 'xplct s bttr thn mplct.\\n', 'Smpl s bttr thn cmplx.\\n', 'Cmplx s bttr thn cmplctd.\\n', 'Flt s bttr thn nstd.\\n', 'Sprs s bttr thn dns.\\n', 'Rdblty cnts.\\n', \"Spcl css rn't spcl ngh t brk th rls.\\n\", 'lthgh prctclty bts prty.\\n', 'rrrs shld nvr pss slntly.\\n', 'nlss xplctly slncd.\\n', 'n th fc f mbgty, rfs th tmpttn t gss.\\n', 'Thr shld b n-- nd prfrbly nly n --bvs wy t d t.\\n', \"lthgh tht wy my nt b bvs t frst nlss y'r Dtch.\\n\", 'Nw s bttr thn nvr.\\n', 'lthgh nvr s ftn bttr thn *rght* nw.\\n', \"f th mplmnttn s hrd t xpln, t's  bd d.\\n\", 'f th mplmnttn s sy t xpln, t my b  gd d.\\n', \"Nmspcs r n hnkng grt d -- lt's d mr f ths!\"]\n"
     ]
    }
   ],
   "source": [
    "with open('data/zen-of-python.txt','r') as r:\n",
    "    vowel = list('aeiouAEIOU')\n",
    "    lines = r.readlines()\n",
    "    new = []\n",
    "    for line in lines:\n",
    "        for i in range(len(vowel)):\n",
    "            line = line.replace(vowel[i],'')\n",
    "        new.append(line)\n",
    "\n",
    "print(new)            \n"
   ]
  },
  {
   "cell_type": "code",
   "execution_count": 70,
   "metadata": {},
   "outputs": [
    {
     "name": "stdout",
     "output_type": "stream",
     "text": [
      "Btfl s bttr thn gly.\n",
      "xplct s bttr thn mplct.\n",
      "Smpl s bttr thn cmplx.\n",
      "Cmplx s bttr thn cmplctd.\n",
      "Flt s bttr thn nstd.\n",
      "Sprs s bttr thn dns.\n",
      "Rdblty cnts.\n",
      "Spcl css rn't spcl ngh t brk th rls.\n",
      "lthgh prctclty bts prty.\n",
      "rrrs shld nvr pss slntly.\n",
      "nlss xplctly slncd.\n",
      "n th fc f mbgty, rfs th tmpttn t gss.\n",
      "Thr shld b n-- nd prfrbly nly n --bvs wy t d t.\n",
      "lthgh tht wy my nt b bvs t frst nlss y'r Dtch.\n",
      "Nw s bttr thn nvr.\n",
      "lthgh nvr s ftn bttr thn *rght* nw.\n",
      "f th mplmnttn s hrd t xpln, t's  bd d.\n",
      "f th mplmnttn s sy t xpln, t my b  gd d.\n",
      "Nmspcs r n hnkng grt d -- lt's d mr f ths!\n"
     ]
    }
   ],
   "source": [
    "with open('data/zen-of-python.txt','r') as r:\n",
    "    vowel = list('aeiouAEIOU')\n",
    "    text = r.read()\n",
    "    new = []\n",
    "    for i in range(len(vowel)):\n",
    "        text = text.replace(vowel[i],'')\n",
    "\n",
    "print(text)            \n"
   ]
  },
  {
   "cell_type": "markdown",
   "metadata": {
    "colab_type": "text",
    "id": "AUipIuBr9T04"
   },
   "source": [
    "8. Replace all fullstops with exclamation marks in the text file \"zen-of-python.txt\"."
   ]
  },
  {
   "cell_type": "code",
   "execution_count": null,
   "metadata": {},
   "outputs": [],
   "source": [
    "l =[]\n",
    "with open('data/zen-of-python.txt','r') as r:\n",
    "    lines = r.readlines()\n",
    "    for line in lines:\n",
    "        l.append(line.replace('.','!'))\n",
    "l"
   ]
  },
  {
   "cell_type": "markdown",
   "metadata": {
    "colab_type": "text",
    "id": "yBHmtFfs9T05"
   },
   "source": [
    "9. Count the frequency of the word \"Python\" in the text file \"Python-wiki.txt\".\n",
    "\n",
    "\n",
    "```\n",
    "expected output: Frequency of Python is : 78\n",
    "```\n",
    "\n"
   ]
  },
  {
   "cell_type": "code",
   "execution_count": 42,
   "metadata": {
    "colab": {},
    "colab_type": "code",
    "id": "nwhS0sGC9T05"
   },
   "outputs": [
    {
     "name": "stdout",
     "output_type": "stream",
     "text": [
      "78\n"
     ]
    }
   ],
   "source": [
    "import codecs\n",
    "with codecs.open('data/Python-wiki.txt',encoding = 'latin_1',mode = 'r') as r:\n",
    "    text = r.read()\n",
    "    print(text.split().count('Python'))"
   ]
  },
  {
   "cell_type": "markdown",
   "metadata": {
    "colab_type": "text",
    "id": "1qWdfu9n9T07"
   },
   "source": [
    "10. Count the frequency of each alphabet in the text file \"Python-wiki.txt\"."
   ]
  },
  {
   "cell_type": "code",
   "execution_count": 74,
   "metadata": {
    "colab": {},
    "colab_type": "code",
    "id": "9jDGXX369T07"
   },
   "outputs": [
    {
     "name": "stdout",
     "output_type": "stream",
     "text": [
      "a : 1256\n",
      "b : 227\n",
      "c : 571\n",
      "d : 521\n",
      "e : 1752\n",
      "f : 293\n",
      "g : 324\n",
      "h : 562\n",
      "i : 1061\n",
      "j : 37\n",
      "k : 71\n",
      "l : 649\n",
      "m : 464\n",
      "n : 1200\n",
      "o : 1157\n",
      "p : 372\n",
      "q : 18\n",
      "r : 873\n",
      "s : 1072\n",
      "t : 1398\n",
      "u : 390\n",
      "v : 117\n",
      "w : 139\n",
      "x : 93\n",
      "y : 331\n",
      "z : 9\n",
      "A : 18\n",
      "B : 11\n",
      "C : 37\n",
      "D : 5\n",
      "E : 8\n",
      "F : 9\n",
      "G : 7\n",
      "H : 4\n",
      "I : 30\n",
      "J : 9\n",
      "K : 0\n",
      "L : 8\n",
      "M : 11\n",
      "N : 7\n",
      "O : 7\n",
      "P : 117\n",
      "Q : 0\n",
      "R : 17\n",
      "S : 21\n",
      "T : 48\n",
      "U : 5\n",
      "V : 4\n",
      "W : 6\n",
      "X : 0\n",
      "Y : 0\n",
      "Z : 1\n"
     ]
    }
   ],
   "source": [
    "import codecs\n",
    "import string\n",
    "alphabet = string.ascii_lowercase + string.ascii_uppercase\n",
    "with codecs.open('data/Python-wiki.txt', encoding = 'latin_1', mode = 'r') as r:\n",
    "    text = r.read()\n",
    "    for i in range(len(alphabet)):\n",
    "        print(alphabet[i],':',text.count(alphabet[i]))\n",
    "        \n",
    "        "
   ]
  },
  {
   "cell_type": "code",
   "execution_count": 66,
   "metadata": {},
   "outputs": [
    {
     "data": {
      "text/plain": [
       "Counter({'P': 117,\n",
       "         'y': 331,\n",
       "         't': 1398,\n",
       "         'h': 562,\n",
       "         'o': 1157,\n",
       "         'n': 1200,\n",
       "         ' ': 2952,\n",
       "         'i': 1061,\n",
       "         's': 1072,\n",
       "         'a': 1256,\n",
       "         'e': 1752,\n",
       "         'r': 873,\n",
       "         'p': 372,\n",
       "         'd': 521,\n",
       "         ',': 210,\n",
       "         'g': 324,\n",
       "         '-': 54,\n",
       "         'l': 649,\n",
       "         'v': 117,\n",
       "         'u': 390,\n",
       "         'm': 464,\n",
       "         '.': 204,\n",
       "         'C': 37,\n",
       "         'b': 227,\n",
       "         'G': 7,\n",
       "         'R': 17,\n",
       "         'f': 293,\n",
       "         '1': 28,\n",
       "         '9': 13,\n",
       "         \"'\": 28,\n",
       "         'z': 9,\n",
       "         'c': 571,\n",
       "         'w': 139,\n",
       "         'I': 30,\n",
       "         'j': 37,\n",
       "         '[': 69,\n",
       "         '2': 66,\n",
       "         '7': 23,\n",
       "         ']': 68,\n",
       "         '\\n': 110,\n",
       "         '\"': 38,\n",
       "         '8': 16,\n",
       "         '0': 40,\n",
       "         'A': 18,\n",
       "         'B': 11,\n",
       "         'k': 71,\n",
       "         '3': 39,\n",
       "         'D': 5,\n",
       "         '(': 53,\n",
       "         'x': 93,\n",
       "         ')': 53,\n",
       "         'L': 8,\n",
       "         'J': 9,\n",
       "         'S': 21,\n",
       "         'F': 9,\n",
       "         'O': 7,\n",
       "         'N': 7,\n",
       "         '6': 22,\n",
       "         'M': 11,\n",
       "         ':': 18,\n",
       "         'H': 4,\n",
       "         'W': 6,\n",
       "         '&': 3,\n",
       "         'E': 8,\n",
       "         'T': 48,\n",
       "         '4': 19,\n",
       "         '5': 28,\n",
       "         'V': 4,\n",
       "         'U': 5,\n",
       "         ';': 14,\n",
       "         'Z': 1,\n",
       "         '\\x97': 4,\n",
       "         '§': 1,\n",
       "         '=': 27,\n",
       "         'q': 18,\n",
       "         '/': 1,\n",
       "         '<': 10,\n",
       "         '>': 8,\n",
       "         '*': 3,\n",
       "         '@': 2,\n",
       "         '|': 2,\n",
       "         '!': 1,\n",
       "         '?': 1,\n",
       "         '+': 6,\n",
       "         '%': 4,\n",
       "         '{': 5,\n",
       "         '}': 5,\n",
       "         '\\\\': 1,\n",
       "         '#': 1})"
      ]
     },
     "execution_count": 66,
     "metadata": {},
     "output_type": "execute_result"
    }
   ],
   "source": [
    "import os\n",
    "from collections import Counter\n",
    "with open('data/Python-wiki.txt', encoding = 'latin_1', mode = 'r') as f:\n",
    "    word = f.read()\n",
    "\n",
    "counts=Counter(word)\n",
    "counts"
   ]
  },
  {
   "cell_type": "code",
   "execution_count": 56,
   "metadata": {},
   "outputs": [
    {
     "data": {
      "text/plain": [
       "26"
      ]
     },
     "execution_count": 56,
     "metadata": {},
     "output_type": "execute_result"
    }
   ],
   "source": [
    "chr(ord('a'))\n",
    "range(ord('a'),ord('z')+1)\n",
    "len(range(ord('a'),ord('z')+1))"
   ]
  },
  {
   "cell_type": "code",
   "execution_count": 57,
   "metadata": {},
   "outputs": [
    {
     "name": "stdout",
     "output_type": "stream",
     "text": [
      "abcdefghijklmnopqrstuvwxyz\n",
      "['A', 'B', 'C', 'D', 'E', 'F', 'G', 'H', 'I', 'J', 'K', 'L', 'M', 'N', 'O', 'P', 'Q', 'R', 'S', 'T', 'U', 'V', 'W', 'X', 'Y', 'Z']\n"
     ]
    }
   ],
   "source": [
    "import string\n",
    "print(string.ascii_lowercase)\n",
    "print(list(string.ascii_uppercase))"
   ]
  }
 ],
 "metadata": {
  "colab": {
   "collapsed_sections": [],
   "name": "Files-Exercise-6A.ipynb",
   "provenance": []
  },
  "kernelspec": {
   "display_name": "Python 3",
   "language": "python",
   "name": "python3"
  },
  "language_info": {
   "codemirror_mode": {
    "name": "ipython",
    "version": 3
   },
   "file_extension": ".py",
   "mimetype": "text/x-python",
   "name": "python",
   "nbconvert_exporter": "python",
   "pygments_lexer": "ipython3",
   "version": "3.8.8"
  },
  "toc": {
   "base_numbering": 1,
   "nav_menu": {},
   "number_sections": true,
   "sideBar": true,
   "skip_h1_title": false,
   "title_cell": "Table of Contents",
   "title_sidebar": "Contents",
   "toc_cell": false,
   "toc_position": {},
   "toc_section_display": true,
   "toc_window_display": false
  },
  "varInspector": {
   "cols": {
    "lenName": 16,
    "lenType": 16,
    "lenVar": 40
   },
   "kernels_config": {
    "python": {
     "delete_cmd_postfix": "",
     "delete_cmd_prefix": "del ",
     "library": "var_list.py",
     "varRefreshCmd": "print(var_dic_list())"
    },
    "r": {
     "delete_cmd_postfix": ") ",
     "delete_cmd_prefix": "rm(",
     "library": "var_list.r",
     "varRefreshCmd": "cat(var_dic_list()) "
    }
   },
   "types_to_exclude": [
    "module",
    "function",
    "builtin_function_or_method",
    "instance",
    "_Feature"
   ],
   "window_display": false
  }
 },
 "nbformat": 4,
 "nbformat_minor": 1
}
