{
 "cells": [
  {
   "cell_type": "markdown",
   "metadata": {
    "colab_type": "text",
    "id": "rP61NmReydKU"
   },
   "source": [
    "# Loops, Conditionals and Algorithmic Thinking Exercise 4A (Compulsory)"
   ]
  },
  {
   "cell_type": "markdown",
   "metadata": {
    "colab_type": "text",
    "id": "KODxX5KvydKX"
   },
   "source": [
    "1. Create an if-else conditional statement where a user inputs a number and outputs positive, negative, zero or string number.\n",
    "\n",
    "\n",
    "```\n",
    "e.g.\n",
    "input: -2 \n",
    "output: Negative\n",
    "```\n",
    "\n"
   ]
  },
  {
   "cell_type": "code",
   "execution_count": null,
   "metadata": {
    "colab": {},
    "colab_type": "code",
    "id": "U9igFlBMydKZ"
   },
   "outputs": [],
   "source": [
    "input1 = input()\n",
    "x = input1.isalpha()\n",
    "\n",
    "try:\n",
    "    float(input1)\n",
    "except ValueError:\n",
    "    print('String number')\n",
    "    \n",
    "else: \n",
    "    if x == False:\n",
    "        if float(input1) > 0:\n",
    "            print('Positive')\n",
    "        elif float(input1) < 0:\n",
    "            print('Negative')\n",
    "        else:\n",
    "            print('Zero')"
   ]
  },
  {
   "cell_type": "markdown",
   "metadata": {
    "colab_type": "text",
    "id": "VSlIMqGSydKg"
   },
   "source": [
    "2. Use a while statement to create a counter for popularity between pizza, tacos, sushi, and hamburger. When the counter for any item reaches 5, print the most popular item. Ensure that user inputs is in lowercase.\n",
    "\n",
    "\n",
    "```\n",
    "e.g.\n",
    "Select between the followings. \n",
    "1. pizza \n",
    "2. tacos \n",
    "3. sushi \n",
    "4. hamburger1\n",
    "Select between the followings. \n",
    "1. pizza \n",
    "2. tacos \n",
    "3. sushi \n",
    "4. hamburger2\n",
    "Select between the followings. \n",
    "1. pizza \n",
    "2. tacos \n",
    "3. sushi \n",
    "4. hamburger1\n",
    "Select between the followings. \n",
    "1. pizza \n",
    "2. tacos \n",
    "3. sushi \n",
    "4. hamburger1\n",
    "Select between the followings. \n",
    "1. pizza \n",
    "2. tacos \n",
    "3. sushi \n",
    "4. hamburger1\n",
    "Select between the followings. \n",
    "1. pizza \n",
    "2. tacos \n",
    "3. sushi \n",
    "4. hamburger1\n",
    "Pizza is the most popular.\n",
    "```\n",
    "\n"
   ]
  },
  {
   "cell_type": "code",
   "execution_count": 1,
   "metadata": {
    "colab": {},
    "colab_type": "code",
    "id": "mssLmOQPy--n"
   },
   "outputs": [
    {
     "name": "stdout",
     "output_type": "stream",
     "text": [
      "Select between the followings. \n",
      "1. pizza \n",
      "2. tacos \n",
      "3. sushi \n",
      "4. hamburger3\n",
      "Select between the followings. \n",
      "1. pizza \n",
      "2. tacos \n",
      "3. sushi \n",
      "4. hamburger3\n",
      "Select between the followings. \n",
      "1. pizza \n",
      "2. tacos \n",
      "3. sushi \n",
      "4. hamburger3\n",
      "Select between the followings. \n",
      "1. pizza \n",
      "2. tacos \n",
      "3. sushi \n",
      "4. hamburger3\n",
      "Select between the followings. \n",
      "1. pizza \n",
      "2. tacos \n",
      "3. sushi \n",
      "4. hamburger3\n",
      "Sushi is the most popular.\n"
     ]
    }
   ],
   "source": [
    "pizza = 0\n",
    "tacos = 0\n",
    "sushi = 0\n",
    "hamburger1 = 0\n",
    "num = 5\n",
    "\n",
    "while True:\n",
    "    input2 = input(\"\"\"Select between the followings. \n",
    "1. pizza \n",
    "2. tacos \n",
    "3. sushi \n",
    "4. hamburger\"\"\")\n",
    "    \n",
    "    if input2 == '1':\n",
    "        pizza += 1\n",
    "        if pizza == num:\n",
    "            print('Pizza is the most popular.')\n",
    "            break\n",
    "    elif input2 == '2':\n",
    "        tacos += 1\n",
    "        if tacos == num:\n",
    "            print('Tacos is the most popular.')\n",
    "            break\n",
    "    elif input2 == '3':\n",
    "        sushi += 1\n",
    "        if sushi == num:\n",
    "            print('Sushi is the most popular.')\n",
    "            break\n",
    "    elif input2 == '4':\n",
    "        hamburger1 += 1\n",
    "        if pizza == num:\n",
    "            print('Hamburger is the most popular.')\n",
    "            break"
   ]
  },
  {
   "cell_type": "markdown",
   "metadata": {
    "colab_type": "text",
    "id": "MB7sQ7BIydKn"
   },
   "source": [
    "3. Create a while statement that keeps adding numbers until input is a not a digit.\n",
    "\n",
    "\n",
    "```\n",
    "e.g.\n",
    "Enter a number: 8\n",
    "Enter a number: 3\n",
    "Enter a number: 31\n",
    "Enter a number: 4\n",
    "Enter a number: u\n",
    "The sum of the numbers is 46\n",
    "```\n",
    "\n"
   ]
  },
  {
   "cell_type": "markdown",
   "metadata": {
    "colab_type": "text",
    "id": "lriHTWUlydKr"
   },
   "source": [
    "4. Given a list of integers, create a for loop to multiply all the integers in the list.\n",
    "\n",
    "\n",
    "```\n",
    "e.g.\n",
    "list =[1,2,3,4,5,6]\n",
    "output: 720 \n",
    "```\n",
    "\n"
   ]
  },
  {
   "cell_type": "code",
   "execution_count": null,
   "metadata": {
    "colab": {},
    "colab_type": "code",
    "id": "MlLWVLnuydKr"
   },
   "outputs": [],
   "source": [
    "list1 =[1,2,3,4,5,6]\n",
    "total = 1\n",
    "for num in list1:\n",
    "    total *= num \n",
    "print(total)"
   ]
  },
  {
   "cell_type": "markdown",
   "metadata": {
    "colab_type": "text",
    "id": "FAX0QWFWydKu"
   },
   "source": [
    "5. Create an implementation of the bubble sort."
   ]
  },
  {
   "cell_type": "code",
   "execution_count": null,
   "metadata": {
    "colab": {},
    "colab_type": "code",
    "id": "gWHfgBY4ydKu"
   },
   "outputs": [],
   "source": [
    "list2 = [2,3,1,9,4]\n",
    "\n",
    "def bubble_sort(arr):\n",
    "    n = len(arr)\n",
    "    for i in range(n): #range(0,5) - [0,1,2,3,4]\n",
    "        for j in range(n-1-i): # (n-i-1), 5-0-1 range(4)\n",
    "                              \n",
    "            if arr[j] > arr[j+1]:\n",
    "                arr[j],arr[j+1] = arr[j+1],arr[j]\n",
    "    return print(arr)\n",
    "        \n",
    "bubble_sort(list2)\n",
    "        \n",
    "#https://runestone.academy/runestone/books/published/pythonds/SortSearch/TheBubbleSort.html"
   ]
  },
  {
   "cell_type": "code",
   "execution_count": null,
   "metadata": {},
   "outputs": [],
   "source": [
    "li = [15,107,44,89,4,10,189]\n",
    "\n",
    "\n",
    "for i in range(len(li)):\n",
    "    switch = False \n",
    "    for j in range(len(li)-1):\n",
    "        if li[j] > li[j+1]:\n",
    "            swap = li[j]\n",
    "            li[j] = li[j+1]\n",
    "            li[j+1] = swap\n",
    "            switch = True\n",
    "    if switch == False:\n",
    "        break\n",
    "num_iter = i-1\n",
    "print(num_iter,li)"
   ]
  },
  {
   "cell_type": "markdown",
   "metadata": {
    "colab_type": "text",
    "id": "x37t9lt4ydKw"
   },
   "source": [
    "6. Solve this equation using Python:\n",
    "$\\sum_{k=0}^{10}[(\\frac{12\\times23}{3^4})^7 + 2^k]$"
   ]
  },
  {
   "cell_type": "code",
   "execution_count": null,
   "metadata": {
    "colab": {},
    "colab_type": "code",
    "id": "U3vVTW8SydKw"
   },
   "outputs": [],
   "source": [
    "total1 = 0\n",
    "for i in range(0,11):\n",
    "    sum1 = (12*23/(3**4))**7+2**i\n",
    "    total1 += sum1\n",
    "print(total1)"
   ]
  },
  {
   "cell_type": "code",
   "execution_count": null,
   "metadata": {},
   "outputs": [],
   "source": [
    "result = 0\n",
    "for i in range(11):\n",
    "    result += (12*23/3**4)**7 + 2**i \n",
    "print(result)"
   ]
  },
  {
   "cell_type": "markdown",
   "metadata": {
    "colab_type": "text",
    "id": "-eDuj3goydKz"
   },
   "source": [
    "7. Given a list of integers, loop over the list and print the even numbers in the list\n",
    "\n",
    "\n",
    "```\n",
    "e.g.\n",
    "l = [1,15,73,6,3,3,242,4,2,8,45,7,3]\n",
    "output: \n",
    "6\n",
    "242\n",
    "4\n",
    "2\n",
    "8\n",
    "```\n",
    "\n"
   ]
  },
  {
   "cell_type": "code",
   "execution_count": null,
   "metadata": {
    "colab": {},
    "colab_type": "code",
    "id": "02Ypg33MydK0"
   },
   "outputs": [],
   "source": [
    "even_num = []\n",
    "l = [1,15,73,6,3,3,242,4,2,8,45,7,3]\n",
    "\n",
    "for i in l:\n",
    "    if i%2 == 0:\n",
    "        even_num.append(i)\n",
    "        \n",
    "print(even_num)\n",
    "        "
   ]
  },
  {
   "cell_type": "markdown",
   "metadata": {
    "colab_type": "text",
    "id": "y_9ERSB7ydK2"
   },
   "source": [
    "8. Using a for-loop and an if-statement, print each letter in the string \"abcdefghij\", if that letter is a vowel.\n",
    "\n",
    "\n",
    "```\n",
    "e.g.\n",
    "letter = \"abcdefghij\"\n",
    "output:\n",
    "a\n",
    "e\n",
    "i\n",
    "```\n",
    "\n"
   ]
  },
  {
   "cell_type": "code",
   "execution_count": null,
   "metadata": {
    "colab": {},
    "colab_type": "code",
    "id": "jYDR6yFWydK2"
   },
   "outputs": [],
   "source": [
    "letter = \"abcdefghij\"\n",
    "for i in letter:\n",
    "    for v in ['a','e','i','o','u']:\n",
    "        if i == v:\n",
    "            print(i)"
   ]
  },
  {
   "cell_type": "markdown",
   "metadata": {
    "colab_type": "text",
    "id": "gCS50WUcydK6"
   },
   "source": [
    "9. Given a list of nonzero, positive numbers, x, append the sum of that list to the end of it. Do this until the last value in x is at least 100. Use a while-loop.\n",
    "\n",
    "If you start with x = [1], then by the end of your while-loop x should be [1, 1, 2, 4, 8, 16, 32, 64, 128]."
   ]
  },
  {
   "cell_type": "code",
   "execution_count": null,
   "metadata": {
    "colab": {},
    "colab_type": "code",
    "id": "m1w8kWovydK7"
   },
   "outputs": [],
   "source": [
    "x = [1]\n",
    "\n",
    "while x[-1]<100:\n",
    "    sum1 = sum(x) \n",
    "    x.append(sum1)\n",
    "\n",
    "print(x)"
   ]
  },
  {
   "cell_type": "markdown",
   "metadata": {
    "colab_type": "text",
    "id": "wpWk0lfOydK9"
   },
   "source": [
    "10. Loop over a list of integers repeatedly, summing up all of its even values, and adding the content to a total. Repeat this process until the the total exceeds 100, or if you have looped over the list more than 50 times. Print the total only if it exceeds 100.\n",
    "```\n",
    "e.g.\n",
    "x = [3, 4, 1, 2, 8, 10, -3, 0]\n",
    "output: 120\n",
    "```\n",
    "\n"
   ]
  },
  {
   "cell_type": "code",
   "execution_count": null,
   "metadata": {
    "colab": {},
    "colab_type": "code",
    "id": "aL-Fs7mqydK9"
   },
   "outputs": [],
   "source": [
    "x = [1,5,4]\n",
    "total1 = 0\n",
    "counter = 0\n",
    "\n",
    "while True:\n",
    "    for value in x:\n",
    "        if value%2 == 0:\n",
    "            total1 += value\n",
    "    counter += 1\n",
    "    if counter > 50:\n",
    "        print('counter: {}'.format(counter))\n",
    "        break\n",
    "    elif total1 > 100:\n",
    "        print(total1)\n",
    "        break\n",
    "    \n",
    "        "
   ]
  }
 ],
 "metadata": {
  "colab": {
   "collapsed_sections": [],
   "name": "LoopsConditionalsAlgorithmicThinking-Exercise-4A.ipynb",
   "provenance": []
  },
  "kernelspec": {
   "display_name": "Python 3",
   "language": "python",
   "name": "python3"
  },
  "language_info": {
   "codemirror_mode": {
    "name": "ipython",
    "version": 3
   },
   "file_extension": ".py",
   "mimetype": "text/x-python",
   "name": "python",
   "nbconvert_exporter": "python",
   "pygments_lexer": "ipython3",
   "version": "3.8.8"
  },
  "toc": {
   "base_numbering": 1,
   "nav_menu": {},
   "number_sections": true,
   "sideBar": true,
   "skip_h1_title": false,
   "title_cell": "Table of Contents",
   "title_sidebar": "Contents",
   "toc_cell": false,
   "toc_position": {},
   "toc_section_display": true,
   "toc_window_display": false
  },
  "varInspector": {
   "cols": {
    "lenName": 16,
    "lenType": 16,
    "lenVar": 40
   },
   "kernels_config": {
    "python": {
     "delete_cmd_postfix": "",
     "delete_cmd_prefix": "del ",
     "library": "var_list.py",
     "varRefreshCmd": "print(var_dic_list())"
    },
    "r": {
     "delete_cmd_postfix": ") ",
     "delete_cmd_prefix": "rm(",
     "library": "var_list.r",
     "varRefreshCmd": "cat(var_dic_list()) "
    }
   },
   "types_to_exclude": [
    "module",
    "function",
    "builtin_function_or_method",
    "instance",
    "_Feature"
   ],
   "window_display": false
  }
 },
 "nbformat": 4,
 "nbformat_minor": 1
}
